{
  "nbformat": 4,
  "nbformat_minor": 0,
  "metadata": {
    "colab": {
      "provenance": [],
      "include_colab_link": true
    },
    "kernelspec": {
      "name": "python3",
      "display_name": "Python 3"
    },
    "language_info": {
      "name": "python"
    }
  },
  "cells": [
    {
      "cell_type": "markdown",
      "metadata": {
        "id": "view-in-github",
        "colab_type": "text"
      },
      "source": [
        "<a href=\"https://colab.research.google.com/github/Rodrigoshelby/-a3-programacao-/blob/main/A3_PROGRAMACAO_.ipynb\" target=\"_parent\"><img src=\"https://colab.research.google.com/assets/colab-badge.svg\" alt=\"Open In Colab\"/></a>"
      ]
    },
    {
      "cell_type": "code",
      "execution_count": 1,
      "metadata": {
        "colab": {
          "base_uri": "https://localhost:8080/"
        },
        "id": "5vPes0ZN-xGp",
        "outputId": "70f2ef65-1334-4c83-aad6-598506f2c6ba"
      },
      "outputs": [
        {
          "output_type": "stream",
          "name": "stdout",
          "text": [
            "Digite a primeira nota: 9\n",
            "Digite a segunda nota: 7\n",
            "Digite a terceira nota: 8\n",
            "A média é 8.00. O aluno passou.\n"
          ]
        }
      ],
      "source": [
        "# Solicite as três notas do aluno\n",
        "nota1 = float(input(\"Digite a primeira nota: \"))\n",
        "nota2 = float(input(\"Digite a segunda nota: \"))\n",
        "nota3 = float(input(\"Digite a terceira nota: \"))\n",
        "\n",
        "# Calcule a média das notas\n",
        "media = (nota1 + nota2 + nota3) / 3\n",
        "\n",
        "# Verificque se o aluno passou por média ou ficou em recuperação\n",
        "if media >= 7:\n",
        "    print(f\"A média é {media:.2f}. O aluno passou.\")\n",
        "else:\n",
        "    print(f\"A média é {media:.2f}. O aluno ficou em recuperação.\")"
      ]
    }
  ]
}